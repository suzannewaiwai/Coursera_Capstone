{
    "cells": [
        {
            "cell_type": "markdown",
            "metadata": {
                "collapsed": true
            },
            "source": "## Final Capstone Project (Part -1)"
        },
        {
            "cell_type": "markdown",
            "metadata": {},
            "source": "##### 1) Business Understanding (Description of Problem)\n\n- Problem is which city and street in Austrilia is the best to open Hotel?\n- Background is that my client is a business man in Asia. And he would like to expand his business in another countries. So He would like to open Hotel but not sure in which city and location in Austrilia."
        },
        {
            "cell_type": "markdown",
            "metadata": {},
            "source": "##### 2) Analytic Approach\n\nAs per request of customer, we must find State, City and location where is the best for his business. Meanwhile need to collect data to look for the best location, Then his business would be successful.\n\n* To support the business, the location must meet *\n\n1) Population Density\n\n2) Transport\n\n3) Food\n\n4) Cafe\n\n5) Restaurant\n\n6) Park"
        },
        {
            "attachments": {},
            "cell_type": "markdown",
            "metadata": {},
            "source": "##### 3) Description of Data \n\n1. To solve the problem, we need the data *\n\n data for all state and city with population dessity\n\n data for venues in each city\n\n data for venues in each locality in selected city\n\n\n2. Source of Data \n\n https://simplemaps.com/data/au-cities\n \n Import the csv file to get the population of Australia.\n\n\n3. FourSquare API\n\n For Venues in CIty and in Each locality in selected city.\n\n\n4. Data Description (How to use Data to solve the Problem?) \n\n By Using the data from worldpopulation site, firstly we choose most population state and city then will choose we can focus on and open Hotel in which lacation according to the data. Then by leveraging the Foursquare data, we will compare and try to find the best locality. Based on weights we will try to determine the Locality in simillar way."
        }
    ],
    "metadata": {
        "kernelspec": {
            "display_name": "Python 3.6",
            "language": "python",
            "name": "python3"
        },
        "language_info": {
            "codemirror_mode": {
                "name": "ipython",
                "version": 3
            },
            "file_extension": ".py",
            "mimetype": "text/x-python",
            "name": "python",
            "nbconvert_exporter": "python",
            "pygments_lexer": "ipython3",
            "version": "3.6.8"
        }
    },
    "nbformat": 4,
    "nbformat_minor": 1
}